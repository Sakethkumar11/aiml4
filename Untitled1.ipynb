{
  "nbformat": 4,
  "nbformat_minor": 0,
  "metadata": {
    "colab": {
      "provenance": [],
      "authorship_tag": "ABX9TyNgQk9kGCsflRxDTjaM37LP",
      "include_colab_link": true
    },
    "kernelspec": {
      "name": "python3",
      "display_name": "Python 3"
    },
    "language_info": {
      "name": "python"
    }
  },
  "cells": [
    {
      "cell_type": "markdown",
      "metadata": {
        "id": "view-in-github",
        "colab_type": "text"
      },
      "source": [
        "<a href=\"https://colab.research.google.com/github/Sakethkumar11/aiml4/blob/main/Untitled1.ipynb\" target=\"_parent\"><img src=\"https://colab.research.google.com/assets/colab-badge.svg\" alt=\"Open In Colab\"/></a>"
      ]
    },
    {
      "cell_type": "code",
      "execution_count": 1,
      "metadata": {
        "colab": {
          "base_uri": "https://localhost:8080/"
        },
        "id": "2AoJDUC1Ugik",
        "outputId": "2dd4e594-a1ae-4561-b686-539d9074c09d"
      },
      "outputs": [
        {
          "output_type": "stream",
          "name": "stdout",
          "text": [
            "Type of list1: <class 'list'>\n",
            "Type of array1: <class 'numpy.ndarray'>\n",
            "Multiplication: [ 6 14 24 36 50]\n",
            "Division: [6.         3.5        2.66666667 2.25       2.        ]\n",
            "Power of 2: [ 1  4  9 16 25]\n",
            "Addition of Two:\n",
            "array1 + array2\n",
            "Result: [ 7  9 11 13 15]\n",
            "Sin: [ 0.84147098  0.90929743  0.14112001 -0.7568025  -0.95892427]\n",
            "Log: [0.         0.69314718 1.09861229 1.38629436 1.60943791]\n",
            "Log2: [0.         1.         1.5849625  2.         2.32192809]\n",
            "Exponential: [  2.71828183   7.3890561   20.08553692  54.59815003 148.4131591 ]\n"
          ]
        }
      ],
      "source": [
        "# Import NumPy library\n",
        "import numpy as np\n",
        "\n",
        "# Step 1: Create Lists and Arrays\n",
        "list1 = [1, 2, 3, 4, 5]\n",
        "list2 = [6, 7, 8, 9, 10]\n",
        "\n",
        "array1 = np.array(list1)\n",
        "array2 = np.array(list2)\n",
        "\n",
        "# Step 2: Identify their type using type()\n",
        "print(\"Type of list1:\", type(list1))\n",
        "print(\"Type of array1:\", type(array1))\n",
        "\n",
        "# Step 3: Perform mathematical operations\n",
        "# Multiplication\n",
        "result_multiply = array1 * array2\n",
        "print(\"Multiplication:\", result_multiply)\n",
        "\n",
        "# Division\n",
        "result_divide = array2 / array1\n",
        "print(\"Division:\", result_divide)\n",
        "\n",
        "# Power of\n",
        "result_power = array1 ** 2\n",
        "print(\"Power of 2:\", result_power)\n",
        "\n",
        "# Step 4: Combine text with NumPy function\n",
        "text_output = f\"Addition of Two:\\narray1 + array2\\nResult: {array1 + array2}\"\n",
        "print(text_output)\n",
        "\n",
        "# Step 5: Implement NumPy functions\n",
        "result_sin = np.sin(array1)\n",
        "result_log = np.log(array1)\n",
        "result_log2 = np.log2(array1)\n",
        "result_exp = np.exp(array1)\n",
        "\n",
        "print(\"Sin:\", result_sin)\n",
        "print(\"Log:\", result_log)\n",
        "print(\"Log2:\", result_log2)\n",
        "print(\"Exponential:\", result_exp)\n",
        "\n",
        "\n",
        "\n",
        "\n",
        "\n",
        "\n",
        "\n",
        "\n"
      ]
    }
  ]
}