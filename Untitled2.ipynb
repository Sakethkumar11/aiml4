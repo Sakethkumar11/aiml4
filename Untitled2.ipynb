{
  "nbformat": 4,
  "nbformat_minor": 0,
  "metadata": {
    "colab": {
      "provenance": [],
      "authorship_tag": "ABX9TyPIoZGfyydgqpRgdvufzQvn",
      "include_colab_link": true
    },
    "kernelspec": {
      "name": "python3",
      "display_name": "Python 3"
    },
    "language_info": {
      "name": "python"
    }
  },
  "cells": [
    {
      "cell_type": "markdown",
      "metadata": {
        "id": "view-in-github",
        "colab_type": "text"
      },
      "source": [
        "<a href=\"https://colab.research.google.com/github/Sakethkumar11/aiml4/blob/main/Untitled2.ipynb\" target=\"_parent\"><img src=\"https://colab.research.google.com/assets/colab-badge.svg\" alt=\"Open In Colab\"/></a>"
      ]
    },
    {
      "cell_type": "code",
      "execution_count": null,
      "metadata": {
        "id": "Qxm9j0JPZw5_"
      },
      "outputs": [],
      "source": [
        "import pandas as pd\n",
        "import matplotlib.pyplot as plt\n",
        "\n",
        "# Generate Healthcare Dataset\n",
        "people = ['kiran', 'arun', 'vijay', 'varun']\n",
        "age = [25, 30, 35, 40]\n",
        "height = [145, 151, 165, 173]\n",
        "weight = [45, 55, 65, 75]\n",
        "\n",
        "healthcare_data = pd.DataFrame({'People': people, 'Age': age, 'Height': height, 'Weight': weight})\n",
        "\n",
        "# Scatter Plot\n",
        "plt.scatter(healthcare_data['Age'], healthcare_data['Weight'])\n",
        "plt.title('Scatter Plot of Age vs. Weight')\n",
        "plt.xlabel('Age (years)')\n",
        "plt.ylabel('Weight (kg)')\n",
        "plt.show()\n",
        "\n",
        "# Bar Chart\n",
        "plt.bar(healthcare_data['People'], healthcare_data['Height'])\n",
        "plt.title('Bar Chart of People vs. Height')\n",
        "plt.xlabel('People')\n",
        "plt.ylabel('Height (cm)')\n",
        "plt.show()\n",
        "\n",
        "# Histogram\n",
        "plt.hist(healthcare_data['Age'], bins=5, edgecolor='black')\n",
        "plt.title('Histogram of Age Distribution')\n",
        "plt.xlabel('Age (years)')\n",
        "plt.ylabel('Frequency')\n",
        "plt.show()"
      ]
    }
  ]
}